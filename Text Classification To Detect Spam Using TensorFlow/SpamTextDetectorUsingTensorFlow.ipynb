{
 "cells": [
  {
   "cell_type": "markdown",
   "id": "43079e0f",
   "metadata": {},
   "source": [
    "## Spam Text Detector\n",
    "\n",
    "### What is the function and usability of this model?\n",
    "\n",
    "To train the model in understanding and recognizing the pattern of a spam which is presence in the text"
   ]
  },
  {
   "cell_type": "markdown",
   "id": "68213ab8",
   "metadata": {},
   "source": [
    "*Import all required module*"
   ]
  },
  {
   "cell_type": "code",
   "execution_count": 5,
   "id": "4e029588",
   "metadata": {},
   "outputs": [],
   "source": [
    "import pandas as pd\n",
    "import numpy as np\n",
    "import matplotlib.pyplot as plt\n",
    "from sklearn.model_selection import train_test_split\n",
    "import tensorflow as tf\n",
    "from tensorflow.keras.preprocessing.text import Tokenizer\n",
    "from tensorflow.keras.preprocessing.sequence import pad_sequences\n",
    "\n",
    "\n",
    "\n",
    "\n"
   ]
  }
 ],
 "metadata": {
  "kernelspec": {
   "display_name": "Python 3.10.2 64-bit",
   "language": "python",
   "name": "python3"
  },
  "language_info": {
   "codemirror_mode": {
    "name": "ipython",
    "version": 3
   },
   "file_extension": ".py",
   "mimetype": "text/x-python",
   "name": "python",
   "nbconvert_exporter": "python",
   "pygments_lexer": "ipython3",
   "version": "3.10.2"
  },
  "vscode": {
   "interpreter": {
    "hash": "52634da84371cba311ea128a5ea7cdc41ff074b781779e754b270ff9f8153cee"
   }
  }
 },
 "nbformat": 4,
 "nbformat_minor": 5
}
