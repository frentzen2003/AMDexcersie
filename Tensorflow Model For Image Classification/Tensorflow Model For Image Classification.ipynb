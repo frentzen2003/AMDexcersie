{
 "cells": [
  {
   "cell_type": "markdown",
   "id": "ef119956",
   "metadata": {},
   "source": [
    "# Tensorflow Model For Image Classification"
   ]
  },
  {
   "cell_type": "markdown",
   "id": "2d42eb7f",
   "metadata": {},
   "source": [
    "##### Import pandas library\n",
    "\n",
    "<p> Pandas library are used to read data from CSV, as the given data are in CSV format. </p>"
   ]
  },
  {
   "cell_type": "code",
   "execution_count": 7,
   "id": "2860745f",
   "metadata": {},
   "outputs": [],
   "source": [
    "import pandas as pd"
   ]
  },
  {
   "cell_type": "markdown",
   "id": "bc3aedc1",
   "metadata": {},
   "source": [
    "##### Use pandas to load and save csv data to variable"
   ]
  },
  {
   "cell_type": "code",
   "execution_count": 8,
   "id": "d7c2358a",
   "metadata": {},
   "outputs": [
    {
     "name": "stdout",
     "output_type": "stream",
     "text": [
      "<class 'pandas.core.frame.DataFrame'>\n",
      "RangeIndex: 42000 entries, 0 to 41999\n",
      "Columns: 785 entries, label to pixel783\n",
      "dtypes: int64(785)\n",
      "memory usage: 251.5 MB\n",
      "None\n"
     ]
    }
   ],
   "source": [
    "source_data = pd.read_csv('data/train.csv')\n",
    "print(source_data.info())"
   ]
  },
  {
   "cell_type": "markdown",
   "id": "587dd3bb",
   "metadata": {},
   "source": [
    "<p> Analysis which is pulled from given result above </p>\n",
    "</br>\n",
    "<ol>\n",
    "    <li> Rows in given data are a representative of an image </li>\n",
    "    <li> Each column contains value range from 0 - 255 </li>\n",
    "    <li> White is '0', Black is '255' </li>\n",
    "    <li> For testing the model, I will give a 0.75 train and 0.25 validation training</li>\n"
   ]
  },
  {
   "cell_type": "markdown",
   "id": "94bf2a07",
   "metadata": {},
   "source": [
    "##### Import train_test_split function from sklearn libraries\n",
    "\n",
    "<p> Use train_test_split function to split the datasets into 75% for training and 25% for validation </p>\n",
    "\n",
    "<p> After spliting, <i>labels</i> column will be deleted </p>"
   ]
  },
  {
   "cell_type": "code",
   "execution_count": 9,
   "id": "5f3457a8",
   "metadata": {},
   "outputs": [
    {
     "name": "stdout",
     "output_type": "stream",
     "text": [
      "<class 'pandas.core.frame.DataFrame'>\n",
      "Int64Index: 31500 entries, 9600 to 7232\n",
      "Columns: 785 entries, label to pixel783\n",
      "dtypes: int64(785)\n",
      "memory usage: 188.9 MB\n",
      "None\n",
      "-----\n",
      "<class 'pandas.core.frame.DataFrame'>\n",
      "Int64Index: 10500 entries, 32295 to 4604\n",
      "Columns: 785 entries, label to pixel783\n",
      "dtypes: int64(785)\n",
      "memory usage: 63.0 MB\n",
      "None\n"
     ]
    }
   ],
   "source": [
    "from sklearn.model_selection import train_test_split\n",
    "\n",
    "train_data, validation_data = train_test_split(source_data, test_size=0.25)\n",
    "\n",
    "print(train_data.info())\n",
    "print(\"-----\")\n",
    "print(validation_data.info())\n",
    "\n",
    "train_data_label = train_data.pop('label')\n",
    "validation_data_label = validation_data.pop('label')"
   ]
  }
 ],
 "metadata": {
  "kernelspec": {
   "display_name": "Python 3.10.2 64-bit",
   "language": "python",
   "name": "python3"
  },
  "language_info": {
   "codemirror_mode": {
    "name": "ipython",
    "version": 3
   },
   "file_extension": ".py",
   "mimetype": "text/x-python",
   "name": "python",
   "nbconvert_exporter": "python",
   "pygments_lexer": "ipython3",
   "version": "3.10.2"
  },
  "vscode": {
   "interpreter": {
    "hash": "52634da84371cba311ea128a5ea7cdc41ff074b781779e754b270ff9f8153cee"
   }
  }
 },
 "nbformat": 4,
 "nbformat_minor": 5
}
