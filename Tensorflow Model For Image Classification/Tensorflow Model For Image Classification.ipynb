{
 "cells": [
  {
   "cell_type": "markdown",
   "id": "ef119956",
   "metadata": {},
   "source": [
    "# Tensorflow Model For Image Classification"
   ]
  },
  {
   "cell_type": "markdown",
   "id": "2d42eb7f",
   "metadata": {},
   "source": [
    "##### Import pandas library\n",
    "\n",
    "<p> Pandas library are used to read data from CSV, as the given data are in CSV format. </p>"
   ]
  },
  {
   "cell_type": "code",
   "execution_count": 77,
   "id": "2860745f",
   "metadata": {},
   "outputs": [],
   "source": [
    "import pandas as pd"
   ]
  },
  {
   "cell_type": "markdown",
   "id": "bc3aedc1",
   "metadata": {},
   "source": [
    "##### Use pandas to load and save csv data to variable"
   ]
  },
  {
   "cell_type": "code",
   "execution_count": 78,
   "id": "d7c2358a",
   "metadata": {},
   "outputs": [
    {
     "name": "stdout",
     "output_type": "stream",
     "text": [
      "<class 'pandas.core.frame.DataFrame'>\n",
      "RangeIndex: 42000 entries, 0 to 41999\n",
      "Columns: 785 entries, label to pixel783\n",
      "dtypes: int64(785)\n",
      "memory usage: 251.5 MB\n",
      "None\n"
     ]
    }
   ],
   "source": [
    "source_data = pd.read_csv('data/train.csv')\n",
    "print(source_data.info())"
   ]
  },
  {
   "cell_type": "markdown",
   "id": "587dd3bb",
   "metadata": {},
   "source": [
    "<p> Analysis which is pulled from given result above </p>\n",
    "</br>\n",
    "<ol>\n",
    "    <li> Rows in given data are a representative of an image </li>\n",
    "    <li> Each column contains value range from 0 - 255 </li>\n",
    "    <li> White is '0', Black is '255' </li>\n",
    "    <li> For testing the model, I will give a 0.75 train and 0.25 validation training</li>\n",
    "</ol>\n"
   ]
  },
  {
   "cell_type": "markdown",
   "id": "94bf2a07",
   "metadata": {},
   "source": [
    "##### Import train_test_split function from sklearn libraries\n",
    "\n",
    "<p> Use train_test_split function to split the datasets into 75% for training and 25% for validation </p>\n",
    "\n",
    "<p> After spliting, <i>labels</i> column will be deleted </p>"
   ]
  },
  {
   "cell_type": "code",
   "execution_count": 79,
   "id": "5f3457a8",
   "metadata": {},
   "outputs": [
    {
     "name": "stdout",
     "output_type": "stream",
     "text": [
      "<class 'pandas.core.frame.DataFrame'>\n",
      "Int64Index: 31500 entries, 34694 to 32294\n",
      "Columns: 785 entries, label to pixel783\n",
      "dtypes: int64(785)\n",
      "memory usage: 188.9 MB\n",
      "None\n",
      "-----\n",
      "<class 'pandas.core.frame.DataFrame'>\n",
      "Int64Index: 10500 entries, 9865 to 6721\n",
      "Columns: 785 entries, label to pixel783\n",
      "dtypes: int64(785)\n",
      "memory usage: 63.0 MB\n",
      "None\n"
     ]
    }
   ],
   "source": [
    "from sklearn.model_selection import train_test_split\n",
    "\n",
    "train_data, validation_data = train_test_split(source_data, test_size=0.25)\n",
    "\n",
    "print(train_data.info())\n",
    "print(\"-----\")\n",
    "print(validation_data.info())\n",
    "\n",
    "train_data_label = train_data.pop('label')\n",
    "validation_data_label = validation_data.pop('label')"
   ]
  },
  {
   "cell_type": "markdown",
   "id": "db2a3c2c",
   "metadata": {},
   "source": [
    "<p> Generate tensorflow data object from the datasets variables for both train and validation data using the 'from_tensor_slices' imported from the 'tf.data.Dataset' </p>"
   ]
  },
  {
   "cell_type": "code",
   "execution_count": 80,
   "id": "c8ffc1ca",
   "metadata": {},
   "outputs": [
    {
     "name": "stdout",
     "output_type": "stream",
     "text": [
      "<TensorSliceDataset element_spec=(TensorSpec(shape=(784,), dtype=tf.int64, name=None), TensorSpec(shape=(), dtype=tf.int64, name=None))>\n",
      "=\n",
      "<TensorSliceDataset element_spec=(TensorSpec(shape=(784,), dtype=tf.int64, name=None), TensorSpec(shape=(), dtype=tf.int64, name=None))>\n"
     ]
    }
   ],
   "source": [
    "import tensorflow\n",
    "\n",
    "train_data_tensorflow = tensorflow.data.Dataset.from_tensor_slices((train_data.values,train_data_label.values))\n",
    "validation_data_tensorflow = tensorflow.data.Dataset.from_tensor_slices((validation_data.values,validation_data_label.values))\n",
    "\n",
    "print(train_data_tensorflow)\n",
    "print(\"=\")\n",
    "print(validation_data_tensorflow)"
   ]
  },
  {
   "cell_type": "markdown",
   "id": "5bb8cbae",
   "metadata": {},
   "source": [
    "<p> Create a 2D picture with a 28 x 28 shape using matplotlib.pyplot </p>"
   ]
  },
  {
   "cell_type": "code",
   "execution_count": 81,
   "id": "aa91b44f",
   "metadata": {},
   "outputs": [
    {
     "data": {
      "image/png": "[encoded data removed]",
      "text/plain": [
       "<Figure size 1080x1080 with 10 Axes>"
      ]
     },
     "metadata": {},
     "output_type": "display_data"
    }
   ],
   "source": [
    "import matplotlib.pyplot as plt\n",
    "\n",
    "plt.figure(figsize=(15,15))\n",
    "counter =0\n",
    "\n",
    "for image_data, label_data in train_data_tensorflow.take(10):\n",
    "    plt.subplot(2,5,counter+1)\n",
    "    plt.xticks([])\n",
    "    plt.yticks([])\n",
    "    plt.grid(False)\n",
    "\n",
    "    plt.imshow(image_data.numpy().reshape((28,28)), cmap='gray')\n",
    "    plt.xlabel(label_data.numpy())\n",
    "\n",
    "    counter +=1"
   ]
  },
  {
   "cell_type": "markdown",
   "id": "8c8f0b54",
   "metadata": {},
   "source": [
    "<p> The tensorflow data object needs to be reshape and scale for the model </p>"
   ]
  },
  {
   "cell_type": "code",
   "execution_count": 82,
   "id": "f7dbdfc6",
   "metadata": {},
   "outputs": [
    {
     "name": "stdout",
     "output_type": "stream",
     "text": [
      "<ParallelMapDataset element_spec=(TensorSpec(shape=(28, 28, 1), dtype=tf.float32, name=None), TensorSpec(shape=(), dtype=tf.int64, name=None))>\n",
      "<ParallelMapDataset element_spec=(TensorSpec(shape=(28, 28, 1), dtype=tf.float32, name=None), TensorSpec(shape=(), dtype=tf.int64, name=None))>\n"
     ]
    }
   ],
   "source": [
    "def image_reshape_and_scaler(image_data, label_data):\n",
    "    image_data = tensorflow.reshape(image_data, [28,28,1])\n",
    "    image_data = tensorflow.cast(image_data, tensorflow.float32) / 255.\n",
    "\n",
    "    return image_data, label_data\n",
    "\n",
    "train_data_tensorflow = train_data_tensorflow.map(image_reshape_and_scaler, num_parallel_calls=tensorflow.data.experimental.AUTOTUNE)\n",
    "\n",
    "validation_data_tensorflow = validation_data_tensorflow.map(image_reshape_and_scaler, num_parallel_calls=tensorflow.data.experimental.AUTOTUNE)\n",
    "\n",
    "print(train_data_tensorflow)\n",
    "print(validation_data_tensorflow)"
   ]
  },
  {
   "cell_type": "markdown",
   "id": "4410df1e",
   "metadata": {},
   "source": [
    "<p> Create a function to: </p>\n",
    "\n",
    "<ol>\n",
    "    <li> Shuffle the data </li>\n",
    "    <li> Create a logic treshold, to prevent from overloading the memory capacity (batch) </li>\n",
    "    <li> prefetch the next data, to save time from loading and unloading the next data sequence </li>\n",
    "</ol>"
   ]
  },
  {
   "cell_type": "code",
   "execution_count": 83,
   "id": "bd17b9cb",
   "metadata": {},
   "outputs": [
    {
     "name": "stdout",
     "output_type": "stream",
     "text": [
      "<PrefetchDataset element_spec=(TensorSpec(shape=(None, 28, 28, 1), dtype=tf.float32, name=None), TensorSpec(shape=(None,), dtype=tf.int64, name=None))>\n",
      "<PrefetchDataset element_spec=(TensorSpec(shape=(None, 28, 28, 1), dtype=tf.float32, name=None), TensorSpec(shape=(None,), dtype=tf.int64, name=None))>\n"
     ]
    }
   ],
   "source": [
    "def shuffle_batch_prefetch(data_tensorflow):\n",
    "    data_tensorflow = data_tensorflow.shuffle(100)\n",
    "    data_tensorflow = data_tensorflow.batch(32)\n",
    "    data_tensorflow = data_tensorflow.prefetch(tensorflow.data.experimental.AUTOTUNE)\n",
    "\n",
    "    return data_tensorflow\n",
    "\n",
    "train_data_tensorflow = shuffle_batch_prefetch(train_data_tensorflow)\n",
    "\n",
    "validation_data_tensorflow = shuffle_batch_prefetch(validation_data_tensorflow)\n",
    "\n",
    "print(train_data_tensorflow)\n",
    "print(validation_data_tensorflow)"
   ]
  },
  {
   "cell_type": "markdown",
   "id": "44d5030b",
   "metadata": {},
   "source": [
    "<p> Create the neural network model and train the model </p>"
   ]
  },
  {
   "cell_type": "code",
   "execution_count": 84,
   "id": "f91236b0",
   "metadata": {},
   "outputs": [
    {
     "name": "stdout",
     "output_type": "stream",
     "text": [
      "Model: \"sequential_19\"\n",
      "_________________________________________________________________\n",
      " Layer (type)                Output Shape              Param #   \n",
      "=================================================================\n",
      " conv2d_35 (Conv2D)          (None, 28, 28, 6)         156       \n",
      "                                                                 \n",
      " max_pooling2d_20 (MaxPoolin  (None, 14, 14, 6)        0         \n",
      " g2D)                                                            \n",
      "                                                                 \n",
      " conv2d_36 (Conv2D)          (None, 10, 10, 16)        2416      \n",
      "                                                                 \n",
      " max_pooling2d_21 (MaxPoolin  (None, 5, 5, 16)         0         \n",
      " g2D)                                                            \n",
      "                                                                 \n",
      " flatten_7 (Flatten)         (None, 400)               0         \n",
      "                                                                 \n",
      " dense_9 (Dense)             (None, 120)               48120     \n",
      "                                                                 \n",
      " dense_10 (Dense)            (None, 84)                10164     \n",
      "                                                                 \n",
      " dense_11 (Dense)            (None, 10)                850       \n",
      "                                                                 \n",
      "=================================================================\n",
      "Total params: 61,706\n",
      "Trainable params: 61,706\n",
      "Non-trainable params: 0\n",
      "_________________________________________________________________\n"
     ]
    }
   ],
   "source": [
    "model = tensorflow.keras.Sequential()\n",
    "\n",
    "model.add(tensorflow.keras.layers.Conv2D(6, (5, 5), activation='relu', padding='same', input_shape=(28,28,1)))\n",
    "model.add(tensorflow.keras.layers.MaxPooling2D(2,2))\n",
    "\n",
    "model.add(tensorflow.keras.layers.Conv2D(16, (5, 5), activation='relu', padding='valid'))\n",
    "model.add(tensorflow.keras.layers.MaxPooling2D(2,2))\n",
    "\n",
    "model.add(tensorflow.keras.layers.Flatten())\n",
    "model.add(tensorflow.keras.layers.Dense(120, activation='relu'))\n",
    "model.add(tensorflow.keras.layers.Dense(84, activation='relu'))\n",
    "model.add(tensorflow.keras.layers.Dense(10, activation='softmax'))\n",
    "\n",
    "model.compile(optimizer=tensorflow.keras.optimizers.Adam(learning_rate=0.001), loss='sparse_categorical_crossentropy', metrics=['accuracy'])\n",
    "\n",
    "model.summary()"
   ]
  },
  {
   "cell_type": "markdown",
   "id": "04e3c6d7",
   "metadata": {},
   "source": [
    "<p> Create the code statement to define the early stop and LRD (Learning Rate Decay) for the model </p>"
   ]
  },
  {
   "cell_type": "code",
   "execution_count": 85,
   "id": "2a1434d3",
   "metadata": {},
   "outputs": [
    {
     "name": "stdout",
     "output_type": "stream",
     "text": [
      "Epoch 1/30\n",
      "985/985 [==============================] - 9s 9ms/step - loss: 0.2616 - accuracy: 0.9204 - val_loss: 0.0928 - val_accuracy: 0.9722 - lr: 0.0010\n",
      "Epoch 2/30\n",
      "985/985 [==============================] - 11s 11ms/step - loss: 0.0800 - accuracy: 0.9753 - val_loss: 0.0745 - val_accuracy: 0.9771 - lr: 0.0010\n",
      "Epoch 3/30\n",
      "985/985 [==============================] - 11s 11ms/step - loss: 0.0579 - accuracy: 0.9819 - val_loss: 0.0641 - val_accuracy: 0.9799 - lr: 0.0010\n",
      "Epoch 4/30\n",
      "985/985 [==============================] - 11s 11ms/step - loss: 0.0414 - accuracy: 0.9867 - val_loss: 0.0521 - val_accuracy: 0.9846 - lr: 0.0010\n",
      "Epoch 5/30\n",
      "985/985 [==============================] - 12s 12ms/step - loss: 0.0336 - accuracy: 0.9890 - val_loss: 0.0554 - val_accuracy: 0.9845 - lr: 0.0010\n",
      "Epoch 6/30\n",
      "985/985 [==============================] - 11s 11ms/step - loss: 0.0269 - accuracy: 0.9910 - val_loss: 0.0548 - val_accuracy: 0.9847 - lr: 0.0010\n",
      "Epoch 7/30\n",
      "985/985 [==============================] - 12s 12ms/step - loss: 0.0220 - accuracy: 0.9930 - val_loss: 0.0585 - val_accuracy: 0.9822 - lr: 0.0010\n",
      "Epoch 8/30\n",
      "985/985 [==============================] - 12s 12ms/step - loss: 0.0191 - accuracy: 0.9940 - val_loss: 0.0583 - val_accuracy: 0.9837 - lr: 0.0010\n",
      "Epoch 9/30\n",
      "985/985 [==============================] - 11s 11ms/step - loss: 0.0185 - accuracy: 0.9939 - val_loss: 0.0628 - val_accuracy: 0.9834 - lr: 0.0010\n",
      "Epoch 10/30\n",
      "985/985 [==============================] - 11s 12ms/step - loss: 0.0138 - accuracy: 0.9954 - val_loss: 0.0676 - val_accuracy: 0.9852 - lr: 0.0010\n",
      "Epoch 11/30\n",
      "985/985 [==============================] - 11s 12ms/step - loss: 0.0137 - accuracy: 0.9957 - val_loss: 0.0620 - val_accuracy: 0.9854 - lr: 0.0010\n",
      "Epoch 12/30\n",
      "985/985 [==============================] - 11s 11ms/step - loss: 0.0136 - accuracy: 0.9955 - val_loss: 0.0621 - val_accuracy: 0.9843 - lr: 0.0010\n",
      "Epoch 13/30\n",
      "985/985 [==============================] - 11s 11ms/step - loss: 0.0114 - accuracy: 0.9965 - val_loss: 0.0672 - val_accuracy: 0.9856 - lr: 0.0010\n",
      "Epoch 14/30\n",
      "985/985 [==============================] - 11s 11ms/step - loss: 0.0105 - accuracy: 0.9964 - val_loss: 0.0782 - val_accuracy: 0.9812 - lr: 0.0010\n",
      "Epoch 15/30\n",
      "985/985 [==============================] - 11s 12ms/step - loss: 0.0082 - accuracy: 0.9972 - val_loss: 0.0710 - val_accuracy: 0.9848 - lr: 0.0010\n",
      "Epoch 16/30\n",
      "985/985 [==============================] - 11s 12ms/step - loss: 0.0095 - accuracy: 0.9970 - val_loss: 0.0746 - val_accuracy: 0.9859 - lr: 0.0010\n",
      "Epoch 17/30\n",
      "985/985 [==============================] - 11s 11ms/step - loss: 0.0104 - accuracy: 0.9970 - val_loss: 0.0766 - val_accuracy: 0.9853 - lr: 0.0010\n",
      "Epoch 18/30\n",
      "985/985 [==============================] - 11s 11ms/step - loss: 0.0039 - accuracy: 0.9988 - val_loss: 0.0667 - val_accuracy: 0.9872 - lr: 1.0000e-04\n",
      "Epoch 19/30\n",
      "985/985 [==============================] - 11s 11ms/step - loss: 0.0010 - accuracy: 0.9998 - val_loss: 0.0664 - val_accuracy: 0.9874 - lr: 1.0000e-04\n",
      "Epoch 20/30\n",
      "985/985 [==============================] - 11s 11ms/step - loss: 4.5624e-04 - accuracy: 1.0000 - val_loss: 0.0681 - val_accuracy: 0.9876 - lr: 1.0000e-04\n",
      "Epoch 21/30\n",
      "985/985 [==============================] - 12s 12ms/step - loss: 2.7835e-04 - accuracy: 1.0000 - val_loss: 0.0702 - val_accuracy: 0.9879 - lr: 1.0000e-04\n",
      "Epoch 22/30\n",
      "985/985 [==============================] - 11s 11ms/step - loss: 1.9225e-04 - accuracy: 1.0000 - val_loss: 0.0726 - val_accuracy: 0.9879 - lr: 1.0000e-04\n",
      "Epoch 23/30\n",
      "985/985 [==============================] - 11s 11ms/step - loss: 1.3486e-04 - accuracy: 1.0000 - val_loss: 0.0749 - val_accuracy: 0.9880 - lr: 1.0000e-04\n",
      "Epoch 24/30\n",
      "985/985 [==============================] - 11s 11ms/step - loss: 9.9785e-05 - accuracy: 1.0000 - val_loss: 0.0778 - val_accuracy: 0.9880 - lr: 1.0000e-04\n",
      "Epoch 25/30\n",
      "985/985 [==============================] - 11s 11ms/step - loss: 6.7575e-05 - accuracy: 1.0000 - val_loss: 0.0804 - val_accuracy: 0.9877 - lr: 1.0000e-04\n",
      "Epoch 26/30\n",
      "985/985 [==============================] - 11s 11ms/step - loss: 3.9365e-05 - accuracy: 1.0000 - val_loss: 0.0803 - val_accuracy: 0.9873 - lr: 1.0000e-05\n",
      "Epoch 27/30\n",
      "985/985 [==============================] - 11s 11ms/step - loss: 3.3098e-05 - accuracy: 1.0000 - val_loss: 0.0807 - val_accuracy: 0.9874 - lr: 1.0000e-05\n",
      "Epoch 28/30\n",
      "985/985 [==============================] - 11s 11ms/step - loss: 2.9264e-05 - accuracy: 1.0000 - val_loss: 0.0814 - val_accuracy: 0.9875 - lr: 1.0000e-05\n",
      "Epoch 29/30\n",
      "985/985 [==============================] - 11s 11ms/step - loss: 2.5798e-05 - accuracy: 1.0000 - val_loss: 0.0823 - val_accuracy: 0.9874 - lr: 1.0000e-05\n",
      "Epoch 30/30\n",
      "985/985 [==============================] - 11s 11ms/step - loss: 2.2569e-05 - accuracy: 1.0000 - val_loss: 0.0824 - val_accuracy: 0.9874 - lr: 1.0000e-06\n"
     ]
    }
   ],
   "source": [
    "callbacks_model = [\n",
    "    tensorflow.keras.callbacks.ReduceLROnPlateau(monitor='loss', patience=2, verbise=1),\n",
    "    tensorflow.keras.callbacks.EarlyStopping(monitor='loss', patience=5, verbose=1),\n",
    "]\n",
    "\n",
    "train_data_log = model.fit(train_data_tensorflow, validation_data=validation_data_tensorflow, epochs=30, callbacks=callbacks_model)\n"
   ]
  },
  {
   "cell_type": "markdown",
   "id": "3a1a508e",
   "metadata": {},
   "source": [
    "<p> Create the plot graph and value of the training and validation accuracy </p>"
   ]
  },
  {
   "cell_type": "code",
   "execution_count": 86,
   "id": "a82fdf31",
   "metadata": {},
   "outputs": [
    {
     "name": "stdout",
     "output_type": "stream",
     "text": [
      "Accuracy result of Training: 1.000000\n",
      "Accuracy result of Validation: 0.987429\n"
     ]
    },
    {
     "data": {
      "image/png": "[encoded data removed]",
      "text/plain": [
       "<Figure size 432x288 with 1 Axes>"
      ]
     },
     "metadata": {
      "needs_background": "light"
     },
     "output_type": "display_data"
    }
   ],
   "source": [
    "plt.plot(train_data_log.history['accuracy'], label='Training Accuracy')\n",
    "plt.plot(train_data_log.history['val_accuracy'], label='Validation Accuracy')\n",
    "plt.xlabel('Epoch')\n",
    "plt.ylabel('Accuracy')\n",
    "plt.legend()\n",
    "\n",
    "Final_result_training_accuracy = train_data_log.history['accuracy'][-1]\n",
    "Final_validation_training_accuracy = train_data_log.history['val_accuracy'][-1]\n",
    "\n",
    "print('Accuracy result of Training: %4f' % Final_result_training_accuracy)\n",
    "print('Accuracy result of Validation: %4f' % Final_validation_training_accuracy)"
   ]
  },
  {
   "cell_type": "markdown",
   "id": "7a90ed69",
   "metadata": {},
   "source": [
    "<p> Test the trained model with the test datasets </p>"
   ]
  },
  {
   "cell_type": "code",
   "execution_count": 92,
   "id": "d904519f",
   "metadata": {},
   "outputs": [
    {
     "name": "stdout",
     "output_type": "stream",
     "text": [
      "<TensorSliceDataset element_spec=TensorSpec(shape=(28000, 28, 28, 1), dtype=tf.int64, name=None)>\n",
      "1/1 [==============================] - 1s 1s/step\n"
     ]
    }
   ],
   "source": [
    "import numpy\n",
    "\n",
    "source_test_data = pd.read_csv('data/test.csv')\n",
    "source_test_data_tersorflow = tensorflow.data.Dataset.from_tensor_slices(\n",
    "    (\n",
    "        [\n",
    "            source_test_data.to_numpy().reshape(len(source_test_data),28,28,1)\n",
    "        ]\n",
    "    )\n",
    ")\n",
    "print(source_test_data_tersorflow)\n",
    "\n",
    "prediction_data = model.predict(source_test_data_tersorflow)\n",
    "prediction_data = numpy.argmax(prediction_data, axis=1)"
   ]
  },
  {
   "cell_type": "markdown",
   "id": "f038b459",
   "metadata": {},
   "source": [
    "<p> Create a plot graph to heck if the prediction is accurate </p>"
   ]
  },
  {
   "cell_type": "code",
   "execution_count": 94,
   "id": "46bc9b1e",
   "metadata": {},
   "outputs": [
    {
     "data": {
      "image/png": "[encoded data removed]",
      "text/plain": [
       "<Figure size 1080x1080 with 15 Axes>"
      ]
     },
     "metadata": {},
     "output_type": "display_data"
    }
   ],
   "source": [
    "plt.figure(figsize=(15,15))\n",
    "\n",
    "for count, current_row in source_test_data.head(15).iterrows():\n",
    "    plt.subplot(3,5,count+1)\n",
    "    plt.xticks([])\n",
    "    plt.yticks([])\n",
    "    plt.grid(False)\n",
    "\n",
    "    plt.imshow(current_row.values.reshape((28,28)), cmap='gray')\n",
    "    plt.xlabel(prediction_data[count])"
   ]
  },
  {
   "cell_type": "markdown",
   "id": "edb96985",
   "metadata": {},
   "source": [
    "<p> Generate the result to a csv file </p>"
   ]
  },
  {
   "cell_type": "code",
   "execution_count": 97,
   "id": "54c515f1",
   "metadata": {},
   "outputs": [],
   "source": [
    "predictions_result = pd.DataFrame(\n",
    "    data={'Label': prediction_data},\n",
    "    index=pd.RangeIndex(start=1, stop=28001)\n",
    ")\n",
    "\n",
    "predictions_result.index = predictions_result.index.rename('Image Identification')\n",
    "\n",
    "predictions_result.to_csv('Result_of_Prediction.csv')"
   ]
  }
 ],
 "metadata": {
  "kernelspec": {
   "display_name": "Python 3.10.2 64-bit",
   "language": "python",
   "name": "python3"
  },
  "language_info": {
   "codemirror_mode": {
    "name": "ipython",
    "version": 3
   },
   "file_extension": ".py",
   "mimetype": "text/x-python",
   "name": "python",
   "nbconvert_exporter": "python",
   "pygments_lexer": "ipython3",
   "version": "3.10.2"
  },
  "vscode": {
   "interpreter": {
    "hash": "52634da84371cba311ea128a5ea7cdc41ff074b781779e754b270ff9f8153cee"
   }
  }
 },
 "nbformat": 4,
 "nbformat_minor": 5
}
